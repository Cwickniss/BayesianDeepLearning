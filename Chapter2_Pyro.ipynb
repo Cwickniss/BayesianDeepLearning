{
 "cells": [
  {
   "cell_type": "markdown",
   "metadata": {},
   "source": [
    "# Chapter 2 Pytorch "
   ]
  },
  {
   "cell_type": "code",
   "execution_count": 2,
   "metadata": {
    "execution": {
     "iopub.execute_input": "2020-08-04T06:28:45.735825Z",
     "iopub.status.busy": "2020-08-04T06:28:45.735556Z",
     "iopub.status.idle": "2020-08-04T06:28:46.719294Z",
     "shell.execute_reply": "2020-08-04T06:28:46.718590Z",
     "shell.execute_reply.started": "2020-08-04T06:28:45.735797Z"
    }
   },
   "outputs": [],
   "source": [
    "import torch\n",
    "torch.set_default_dtype(torch.float64)\n",
    "\n",
    "import torch.nn as nn\n",
    "import torch.nn.functional as F\n",
    "\n",
    "import pyro\n",
    "import pyro.distributions as dist\n",
    "import pyro.poutine as poutine\n",
    "\n",
    "import torch.optim as optim\n",
    "\n",
    "from pyro.optim import Adam\n",
    "from pyro.infer import SVI, Trace_ELBO\n",
    "\n",
    "import matplotlib.pyplot as plt\n",
    "import numpy as np\n",
    "import pandas as pd"
   ]
  },
  {
   "cell_type": "code",
   "execution_count": 6,
   "metadata": {
    "execution": {
     "iopub.execute_input": "2020-08-02T08:42:45.056678Z",
     "iopub.status.busy": "2020-08-02T08:42:45.056339Z",
     "iopub.status.idle": "2020-08-02T08:42:45.075577Z",
     "shell.execute_reply": "2020-08-02T08:42:45.074471Z",
     "shell.execute_reply.started": "2020-08-02T08:42:45.056630Z"
    }
   },
   "outputs": [],
   "source": [
    "plt.rcParams[\"figure.figsize\"]=(10,7)\n",
    "\n",
    "# comment out the below if don\"t have a 4k or retina display\n",
    "%config InlineBackend.figure_format=\"retina\""
   ]
  },
  {
   "cell_type": "markdown",
   "metadata": {},
   "source": [
    "# Data "
   ]
  },
  {
   "cell_type": "code",
   "execution_count": 7,
   "metadata": {
    "execution": {
     "iopub.execute_input": "2020-08-04T06:31:24.626059Z",
     "iopub.status.busy": "2020-08-04T06:31:24.625787Z",
     "iopub.status.idle": "2020-08-04T06:31:24.645890Z",
     "shell.execute_reply": "2020-08-04T06:31:24.645055Z",
     "shell.execute_reply.started": "2020-08-04T06:31:24.626031Z"
    }
   },
   "outputs": [
    {
     "data": {
      "text/html": [
       "<div>\n",
       "<style scoped>\n",
       "    .dataframe tbody tr th:only-of-type {\n",
       "        vertical-align: middle;\n",
       "    }\n",
       "\n",
       "    .dataframe tbody tr th {\n",
       "        vertical-align: top;\n",
       "    }\n",
       "\n",
       "    .dataframe thead th {\n",
       "        text-align: right;\n",
       "    }\n",
       "</style>\n",
       "<table border=\"1\" class=\"dataframe\">\n",
       "  <thead>\n",
       "    <tr style=\"text-align: right;\">\n",
       "      <th></th>\n",
       "      <th>weight</th>\n",
       "      <th>time</th>\n",
       "      <th>outcome</th>\n",
       "    </tr>\n",
       "  </thead>\n",
       "  <tbody>\n",
       "    <tr>\n",
       "      <th>0</th>\n",
       "      <td>55.0</td>\n",
       "      <td>7.1</td>\n",
       "      <td>2</td>\n",
       "    </tr>\n",
       "    <tr>\n",
       "      <th>1</th>\n",
       "      <td>55.2</td>\n",
       "      <td>2.8</td>\n",
       "      <td>0</td>\n",
       "    </tr>\n",
       "    <tr>\n",
       "      <th>2</th>\n",
       "      <td>59.2</td>\n",
       "      <td>5.1</td>\n",
       "      <td>2</td>\n",
       "    </tr>\n",
       "    <tr>\n",
       "      <th>3</th>\n",
       "      <td>47.3</td>\n",
       "      <td>2.1</td>\n",
       "      <td>0</td>\n",
       "    </tr>\n",
       "    <tr>\n",
       "      <th>4</th>\n",
       "      <td>62.9</td>\n",
       "      <td>6.8</td>\n",
       "      <td>2</td>\n",
       "    </tr>\n",
       "    <tr>\n",
       "      <th>5</th>\n",
       "      <td>51.0</td>\n",
       "      <td>3.0</td>\n",
       "      <td>0</td>\n",
       "    </tr>\n",
       "    <tr>\n",
       "      <th>6</th>\n",
       "      <td>58.6</td>\n",
       "      <td>6.4</td>\n",
       "      <td>2</td>\n",
       "    </tr>\n",
       "    <tr>\n",
       "      <th>7</th>\n",
       "      <td>52.4</td>\n",
       "      <td>1.5</td>\n",
       "      <td>0</td>\n",
       "    </tr>\n",
       "    <tr>\n",
       "      <th>8</th>\n",
       "      <td>55.3</td>\n",
       "      <td>4.6</td>\n",
       "      <td>2</td>\n",
       "    </tr>\n",
       "    <tr>\n",
       "      <th>9</th>\n",
       "      <td>56.5</td>\n",
       "      <td>4.8</td>\n",
       "      <td>1</td>\n",
       "    </tr>\n",
       "  </tbody>\n",
       "</table>\n",
       "</div>"
      ],
      "text/plain": [
       "   weight  time  outcome\n",
       "0    55.0   7.1        2\n",
       "1    55.2   2.8        0\n",
       "2    59.2   5.1        2\n",
       "3    47.3   2.1        0\n",
       "4    62.9   6.8        2\n",
       "5    51.0   3.0        0\n",
       "6    58.6   6.4        2\n",
       "7    52.4   1.5        0\n",
       "8    55.3   4.6        2\n",
       "9    56.5   4.8        1"
      ]
     },
     "execution_count": 7,
     "metadata": {},
     "output_type": "execute_result"
    }
   ],
   "source": [
    "egg_timing_df = pd.read_csv(\"egg_times.csv\",index_col=0)\n",
    "egg_timing_df.head(n=10)"
   ]
  },
  {
   "cell_type": "code",
   "execution_count": 17,
   "metadata": {},
   "outputs": [
    {
     "data": {
      "text/plain": [
       "69.5"
      ]
     },
     "execution_count": 17,
     "metadata": {},
     "output_type": "execute_result"
    }
   ],
   "source": [
    "max(egg_timing_df[\"weight\"])"
   ]
  },
  {
   "cell_type": "code",
   "execution_count": 18,
   "metadata": {},
   "outputs": [
    {
     "data": {
      "text/plain": [
       "55.06291079812208"
      ]
     },
     "execution_count": 18,
     "metadata": {},
     "output_type": "execute_result"
    }
   ],
   "source": [
    "np.mean(egg_timing_df[\"weight\"])"
   ]
  },
  {
   "cell_type": "code",
   "execution_count": 19,
   "metadata": {},
   "outputs": [
    {
     "data": {
      "text/plain": [
       "5.0245517689382995"
      ]
     },
     "execution_count": 19,
     "metadata": {},
     "output_type": "execute_result"
    }
   ],
   "source": [
    "np.std(egg_timing_df[\"weight\"])"
   ]
  },
  {
   "cell_type": "code",
   "execution_count": 8,
   "metadata": {},
   "outputs": [
    {
     "name": "stdout",
     "output_type": "stream",
     "text": [
      "<class 'pandas.core.frame.DataFrame'>\n",
      "Int64Index: 639 entries, 0 to 638\n",
      "Data columns (total 3 columns):\n",
      "weight     639 non-null float64\n",
      "time       639 non-null float64\n",
      "outcome    639 non-null int64\n",
      "dtypes: float64(2), int64(1)\n",
      "memory usage: 20.0 KB\n"
     ]
    }
   ],
   "source": [
    "egg_timing_df.info()"
   ]
  },
  {
   "cell_type": "code",
   "execution_count": 8,
   "metadata": {
    "execution": {
     "iopub.execute_input": "2020-08-04T06:31:30.303125Z",
     "iopub.status.busy": "2020-08-04T06:31:30.302863Z",
     "iopub.status.idle": "2020-08-04T06:31:30.309226Z",
     "shell.execute_reply": "2020-08-04T06:31:30.308423Z",
     "shell.execute_reply.started": "2020-08-04T06:31:30.303098Z"
    }
   },
   "outputs": [],
   "source": [
    "train_ = egg_timing_df[[\"weight\",\"time\"]].values # TensorFlow/Keras likes numpy/arrays rather than Dataframes\n",
    "target_ = egg_timing_df[\"outcome\"].values #.to_numpy()\n",
    "\n",
    "train_in = train_[:-50] # get all except the last 50 for training\n",
    "train_target = target_[:-50]\n",
    "\n",
    "val_in = train_[-50:] # take all from the last 50 for validation\n",
    "val_target = target_[-50:]"
   ]
  },
  {
   "cell_type": "code",
   "execution_count": 123,
   "metadata": {},
   "outputs": [
    {
     "name": "stdout",
     "output_type": "stream",
     "text": [
      "202\n",
      "117\n",
      "320\n"
     ]
    }
   ],
   "source": [
    "n = len(target_)\n",
    "num_underdone = sum(target_==0)\n",
    "print(num_underdone)\n",
    "num_softboiled = sum(target_==1)\n",
    "print(num_softboiled)\n",
    "num_hardboiled = sum(target_==2)\n",
    "print(num_hardboiled)\n",
    "\n",
    "# class_weights = {0:underdone_class_weight, 1:softboiled_class_weight, 2: hardboiled_class_weight}"
   ]
  },
  {
   "cell_type": "code",
   "execution_count": 168,
   "metadata": {
    "execution": {
     "iopub.execute_input": "2020-08-04T10:25:49.977369Z",
     "iopub.status.busy": "2020-08-04T10:25:49.977093Z",
     "iopub.status.idle": "2020-08-04T10:25:49.986210Z",
     "shell.execute_reply": "2020-08-04T10:25:49.985596Z",
     "shell.execute_reply.started": "2020-08-04T10:25:49.977341Z"
    }
   },
   "outputs": [],
   "source": [
    "underdone = egg_timing_df[egg_timing_df[\"outcome\"]==0][:117]\n",
    "softboiled = egg_timing_df[egg_timing_df[\"outcome\"]==1]\n",
    "hardboiled = egg_timing_df[egg_timing_df[\"outcome\"]==2][:117]"
   ]
  },
  {
   "cell_type": "code",
   "execution_count": 170,
   "metadata": {
    "execution": {
     "iopub.execute_input": "2020-08-04T13:05:44.754051Z",
     "iopub.status.busy": "2020-08-04T13:05:44.753774Z",
     "iopub.status.idle": "2020-08-04T13:05:44.923663Z",
     "shell.execute_reply": "2020-08-04T13:05:44.922990Z",
     "shell.execute_reply.started": "2020-08-04T13:05:44.754022Z"
    }
   },
   "outputs": [
    {
     "data": {
      "image/png": "[encoded data removed]",
      "text/plain": [
       "<Figure size 432x288 with 1 Axes>"
      ]
     },
     "metadata": {
      "needs_background": "light"
     },
     "output_type": "display_data"
    }
   ],
   "source": [
    "violin_parts = plt.violinplot(underdone['time'], positions=[0], showmeans=True)\n",
    "# over-ride default blue color, you can't use 'color' parameter as can on histograms etc\n",
    "for pc in violin_parts['bodies']: # used to\n",
    "    pc.set_facecolor('red')\n",
    "    violin_parts['cbars'].set_edgecolor('red')\n",
    "    violin_parts['cmaxes'].set_edgecolor('red')\n",
    "    violin_parts['cmins'].set_edgecolor('red')\n",
    "    violin_parts['cmeans'].set_edgecolor('red')\n",
    "    plt.violinplot(softboiled['time'], positions=[0.5], showmeans=True)\n",
    "    plt.violinplot(hardboiled['time'], positions=[1], showmeans=True)\n",
    "    plt.ylabel(\"time\")\n",
    "    plt.xticks([0,0.5,1],[\"underdone\", \"soft\", \"hard\"])"
   ]
  },
  {
   "cell_type": "code",
   "execution_count": 69,
   "metadata": {},
   "outputs": [
    {
     "data": {
      "text/plain": [
       "639"
      ]
     },
     "execution_count": 69,
     "metadata": {},
     "output_type": "execute_result"
    }
   ],
   "source": [
    "len(train_)"
   ]
  },
  {
   "cell_type": "code",
   "execution_count": 9,
   "metadata": {
    "execution": {
     "iopub.execute_input": "2020-08-04T06:31:35.839018Z",
     "iopub.status.busy": "2020-08-04T06:31:35.838760Z",
     "iopub.status.idle": "2020-08-04T06:31:35.846500Z",
     "shell.execute_reply": "2020-08-04T06:31:35.845451Z",
     "shell.execute_reply.started": "2020-08-04T06:31:35.838991Z"
    }
   },
   "outputs": [],
   "source": [
    "class EggTimesDataset(torch.utils.data.dataset.Dataset):\n",
    "    def __init__(self, df):\n",
    "\n",
    "        self.df = df\n",
    "\n",
    "    def __len__(self):\n",
    "        return len(self.df)\n",
    "\n",
    "    def __getitem__(self, idx):\n",
    "\n",
    "        features = self.df.iloc[idx, :-1].values\n",
    "        outcomes = np.array(self.df.iloc[idx, -1])\n",
    "\n",
    "        example = {\"features\": features, \"outcomes\": outcomes}\n",
    "\n",
    "        return example\n",
    "\n",
    "train_dataset = EggTimesDataset(egg_timing_df[:-50])\n",
    "test_dataset = EggTimesDataset(egg_timing_df[-50:])"
   ]
  },
  {
   "cell_type": "code",
   "execution_count": 7,
   "metadata": {},
   "outputs": [
    {
     "data": {
      "text/plain": [
       "{'features': array([55. ,  7.1]), 'outcomes': array(2)}"
      ]
     },
     "execution_count": 7,
     "metadata": {},
     "output_type": "execute_result"
    }
   ],
   "source": [
    "train_dataset[0]"
   ]
  },
  {
   "cell_type": "code",
   "execution_count": 10,
   "metadata": {
    "execution": {
     "iopub.execute_input": "2020-08-04T06:31:39.818330Z",
     "iopub.status.busy": "2020-08-04T06:31:39.818071Z",
     "iopub.status.idle": "2020-08-04T06:31:39.823047Z",
     "shell.execute_reply": "2020-08-04T06:31:39.822250Z",
     "shell.execute_reply.started": "2020-08-04T06:31:39.818303Z"
    }
   },
   "outputs": [],
   "source": [
    "trainloader = torch.utils.data.DataLoader(train_dataset, batch_size=50,\n",
    "                                          shuffle=True, num_workers=2)\n",
    "testloader = torch.utils.data.DataLoader(test_dataset, batch_size=50,\n",
    "                                          shuffle=True, num_workers=2)"
   ]
  },
  {
   "cell_type": "markdown",
   "metadata": {},
   "source": [
    "# Dense model"
   ]
  },
  {
   "cell_type": "code",
   "execution_count": 3,
   "metadata": {
    "execution": {
     "iopub.execute_input": "2020-08-04T06:29:06.741545Z",
     "iopub.status.busy": "2020-08-04T06:29:06.741263Z",
     "iopub.status.idle": "2020-08-04T06:29:06.748525Z",
     "shell.execute_reply": "2020-08-04T06:29:06.747632Z",
     "shell.execute_reply.started": "2020-08-04T06:29:06.741517Z"
    }
   },
   "outputs": [],
   "source": [
    "class DenseModel(nn.Module):\n",
    "    def __init__(self, num_in):\n",
    "\n",
    "        super(DenseModel, self).__init__()\n",
    "\n",
    "        self.fc1 = nn.Linear(num_in, 16)\n",
    "        self.fc2 = nn.Linear(16, 6)\n",
    "        self.fc3 = nn.Linear(6, 3)\n",
    "\n",
    "    def forward(self, x):\n",
    "        x = F.relu(self.fc1(x))\n",
    "        x = F.relu(self.fc2(x))\n",
    "        x = self.fc3(x)\n",
    "        return x\n",
    "\n",
    "dense = DenseModel(2)"
   ]
  },
  {
   "cell_type": "markdown",
   "metadata": {},
   "source": [
    "### Setup for training"
   ]
  },
  {
   "cell_type": "code",
   "execution_count": 4,
   "metadata": {
    "execution": {
     "iopub.execute_input": "2020-08-04T06:30:14.177537Z",
     "iopub.status.busy": "2020-08-04T06:30:14.177276Z",
     "iopub.status.idle": "2020-08-04T06:30:14.181716Z",
     "shell.execute_reply": "2020-08-04T06:30:14.180822Z",
     "shell.execute_reply.started": "2020-08-04T06:30:14.177510Z"
    }
   },
   "outputs": [],
   "source": [
    "learning_rate=0.001\n",
    "criterion = nn.CrossEntropyLoss()\n",
    "optimizer = optim.Adam(dense.parameters(), lr=learning_rate) # note this uses *Pytorch* optim not Pyro"
   ]
  },
  {
   "cell_type": "markdown",
   "metadata": {},
   "source": [
    "### training loop "
   ]
  },
  {
   "cell_type": "code",
   "execution_count": 65,
   "metadata": {},
   "outputs": [
    {
     "name": "stdout",
     "output_type": "stream",
     "text": [
      "epoch: 0 loss: 1.983\n",
      "Test accuracy: 0.2\n",
      "epoch: 5 loss: 0.951\n",
      "Test accuracy: 0.38\n",
      "epoch: 10 loss: 0.940\n",
      "Test accuracy: 0.38\n",
      "epoch: 15 loss: 0.921\n",
      "Test accuracy: 0.38\n",
      "epoch: 20 loss: 0.906\n",
      "Test accuracy: 0.42\n",
      "epoch: 25 loss: 0.880\n",
      "Test accuracy: 0.44\n",
      "epoch: 30 loss: 0.857\n",
      "Test accuracy: 0.54\n",
      "epoch: 35 loss: 0.832\n",
      "Test accuracy: 0.56\n",
      "epoch: 40 loss: 0.804\n",
      "Test accuracy: 0.6\n",
      "epoch: 45 loss: 0.773\n",
      "Test accuracy: 0.76\n",
      "epoch: 50 loss: 0.737\n",
      "Test accuracy: 0.76\n",
      "epoch: 55 loss: 0.709\n",
      "Test accuracy: 0.76\n",
      "epoch: 60 loss: 0.676\n",
      "Test accuracy: 0.78\n",
      "epoch: 65 loss: 0.644\n",
      "Test accuracy: 0.78\n",
      "epoch: 70 loss: 0.618\n",
      "Test accuracy: 0.8\n",
      "epoch: 75 loss: 0.591\n",
      "Test accuracy: 0.8\n",
      "epoch: 80 loss: 0.566\n",
      "Test accuracy: 0.8\n",
      "epoch: 85 loss: 0.543\n",
      "Test accuracy: 0.8\n",
      "epoch: 90 loss: 0.520\n",
      "Test accuracy: 0.8\n",
      "epoch: 95 loss: 0.500\n",
      "Test accuracy: 0.8\n",
      "epoch: 100 loss: 0.482\n",
      "Test accuracy: 0.8\n",
      "epoch: 105 loss: 0.464\n",
      "Test accuracy: 0.8\n",
      "epoch: 110 loss: 0.453\n",
      "Test accuracy: 0.8\n",
      "epoch: 115 loss: 0.434\n",
      "Test accuracy: 0.8\n",
      "epoch: 120 loss: 0.418\n",
      "Test accuracy: 0.8\n",
      "epoch: 125 loss: 0.404\n",
      "Test accuracy: 0.8\n",
      "epoch: 130 loss: 0.397\n",
      "Test accuracy: 0.8\n",
      "epoch: 135 loss: 0.385\n",
      "Test accuracy: 0.84\n",
      "epoch: 140 loss: 0.372\n",
      "Test accuracy: 0.84\n",
      "epoch: 145 loss: 0.364\n",
      "Test accuracy: 0.84\n",
      "Final loss:0.355 at epoch: 149 and learning rate: 0.001\n"
     ]
    }
   ],
   "source": [
    "for epoch in range(800): \n",
    "\n",
    "    running_loss = []\n",
    "    for i, batch in enumerate(trainloader):\n",
    "        \n",
    "        inputs = batch[\"features\"]\n",
    "        labels = batch[\"outcomes\"]\n",
    "\n",
    "        optimizer.zero_grad()\n",
    "\n",
    "        outputs = dense(inputs)\n",
    "        loss = criterion(outputs, labels)\n",
    "        loss.backward()\n",
    "        optimizer.step()\n",
    "\n",
    "        running_loss.append(loss.item())\n",
    "\n",
    "        freq_checks = 5\n",
    "    if epoch % freq_checks == 0:\n",
    "        print(\"epoch: {} loss: {:.3f}\".format(epoch, sum(running_loss) / len(running_loss)))\n",
    "        running_loss = []\n",
    "        for data in testloader:\n",
    "            test_inputs = data[\"features\"]\n",
    "            test_labels = data[\"outcomes\"]\n",
    "            outputs = dense(test_inputs)\n",
    "            _, predicted = torch.max(outputs, 1)\n",
    "            print(\"Test accuracy:\", sum(np.array(predicted)==np.array(test_labels))/len(predicted))\n",
    "print(\"Final loss:{:.3f} at epoch: {} and learning rate: {}\".format(sum(running_loss)/len(running_loss),epoch,learning_rate))"
   ]
  },
  {
   "cell_type": "markdown",
   "metadata": {},
   "source": [
    "# Pyro model"
   ]
  },
  {
   "cell_type": "code",
   "execution_count": 53,
   "metadata": {
    "execution": {
     "iopub.execute_input": "2020-08-04T07:52:54.223367Z",
     "iopub.status.busy": "2020-08-04T07:52:54.223095Z",
     "iopub.status.idle": "2020-08-04T07:52:54.232541Z",
     "shell.execute_reply": "2020-08-04T07:52:54.231654Z",
     "shell.execute_reply.started": "2020-08-04T07:52:54.223339Z"
    }
   },
   "outputs": [],
   "source": [
    "def model(data):\n",
    "    fc1w_prior = dist.Normal(loc=torch.zeros_like(dense.fc1.weight), scale=torch.ones_like(dense.fc1.weight))\n",
    "    fc1b_prior = dist.Normal(loc=torch.zeros_like(dense.fc1.bias), scale=torch.ones_like(dense.fc1.bias))\n",
    "    \n",
    "    fc2w_prior = dist.Normal(loc=torch.zeros_like(dense.fc2.weight), scale=torch.ones_like(dense.fc2.weight))\n",
    "    fc2b_prior = dist.Normal(loc=torch.zeros_like(dense.fc2.bias), scale=torch.ones_like(dense.fc2.bias))\n",
    "    \n",
    "    fc3w_prior = dist.Normal(loc=torch.zeros_like(dense.fc3.weight), scale=torch.ones_like(dense.fc3.weight))\n",
    "    fc3b_prior = dist.Normal(loc=torch.zeros_like(dense.fc3.bias), scale=torch.ones_like(dense.fc3.bias))\n",
    "    \n",
    "    priors = {\"fc1w\": fc1w_prior, \"fc1b\": fc1b_prior, \"fc2w\":fc2w_prior, \"fc2b\":fc2b_prior,  \"fc3w\": fc3w_prior, \"fc3b\": fc3b_prior}\n",
    "\n",
    "    lifted_module = pyro.random_module(\"module\", dense, priors)\n",
    "    lifted_reg_model = lifted_module()\n",
    "    \n",
    "    probs = torch.nn.functional.log_softmax(lifted_reg_model(data[\"features\"]),dim=1)\n",
    "    \n",
    "    pyro.sample(\"obs\", dist.Categorical(logits=probs), obs=data[\"outcomes\"])"
   ]
  },
  {
   "cell_type": "code",
   "execution_count": 54,
   "metadata": {
    "execution": {
     "iopub.execute_input": "2020-08-04T07:52:58.185829Z",
     "iopub.status.busy": "2020-08-04T07:52:58.185569Z",
     "iopub.status.idle": "2020-08-04T07:52:58.198095Z",
     "shell.execute_reply": "2020-08-04T07:52:58.197283Z",
     "shell.execute_reply.started": "2020-08-04T07:52:58.185802Z"
    }
   },
   "outputs": [],
   "source": [
    "def guide(data):\n",
    "    \n",
    "    # FC1 weights\n",
    "    fc1w_mu = torch.randn_like(dense.fc1.weight)\n",
    "    fc1w_sigma = torch.randn_like(dense.fc1.weight)\n",
    "    fc1w_mu_param = pyro.param(\"fc1w_mu\", fc1w_mu)\n",
    "    fc1w_sigma_param = F.softplus(pyro.param(\"fc1w_sigma\", fc1w_sigma))\n",
    "    fc1w_approx_post = dist.Normal(loc=fc1w_mu_param, scale=fc1w_sigma_param)\n",
    "    # FC1 bias\n",
    "    fc1b_mu = torch.randn_like(dense.fc1.bias)\n",
    "    fc1b_sigma = torch.randn_like(dense.fc1.bias)\n",
    "    fc1b_mu_param = pyro.param(\"fc1b_mu\", fc1b_mu)\n",
    "    fc1b_sigma_param = F.softplus(pyro.param(\"fc1b_sigma\", fc1b_sigma))\n",
    "    fc1b_approx_post = dist.Normal(loc=fc1b_mu_param, scale=fc1b_sigma_param)\n",
    "    \n",
    "    # FC2 weights\n",
    "    fc2w_mu = torch.randn_like(dense.fc2.weight)\n",
    "    fc2w_sigma = torch.randn_like(dense.fc2.weight)\n",
    "    fc2w_mu_param = pyro.param(\"fc2w_mu\", fc2w_mu)\n",
    "    fc2w_sigma_param = F.softplus(pyro.param(\"fc2w_sigma\", fc2w_sigma))\n",
    "    fc2w_approx_post = dist.Normal(loc=fc2w_mu_param, scale=fc2w_sigma_param)\n",
    "    # FC2 bias\n",
    "    fc2b_mu = torch.randn_like(dense.fc2.bias)\n",
    "    fc2b_sigma = torch.randn_like(dense.fc2.bias)\n",
    "    fc2b_mu_param = pyro.param(\"fc2b_mu\", fc2b_mu)\n",
    "    fc2b_sigma_param = F.softplus(pyro.param(\"fc2b_sigma\", fc2b_sigma))\n",
    "    fc2b_approx_post = dist.Normal(loc=fc2b_mu_param, scale=fc2b_sigma_param)\n",
    "    \n",
    "    # FC3 weights\n",
    "    fc3w_mu = torch.randn_like(dense.fc3.weight)\n",
    "    fc3w_sigma = torch.randn_like(dense.fc3.weight)\n",
    "    fc3w_mu_param = pyro.param(\"fc3w_mu\", fc3w_mu)\n",
    "    fc3w_sigma_param = F.softplus(pyro.param(\"fc3w_sigma\", fc3w_sigma))\n",
    "    fc3w_approx_post = dist.Normal(loc=fc3w_mu_param, scale=fc3w_sigma_param).independent(1)\n",
    "    # FC3 bias\n",
    "    fc3b_mu = torch.randn_like(dense.fc3.bias)\n",
    "    fc3b_sigma = torch.randn_like(dense.fc3.bias)\n",
    "    fc3b_mu_param = pyro.param(\"fc3b_mu\", fc3b_mu)\n",
    "    fc3b_sigma_param = F.softplus(pyro.param(\"fc3b_sigma\", fc3b_sigma))\n",
    "    fc3b_approx_post = dist.Normal(loc=fc3b_mu_param, scale=fc3b_sigma_param)\n",
    "#     priors = {\"fc1w\": fc1w_approx_post, \"fc1b\": fc1b_approx_post, \"fc2.weight\":fc2w_approx_post, \"fc2.bias\":fc2b_approx_post,  \"fc3w\": fc3w_approx_post, \"fc3b\": fc3b_approx_post}\n",
    "    approx_posterior = {\"fc1w\": fc1w_approx_post, \"fc1b\": fc1b_approx_post, \"fc2w\":fc2w_approx_post, \"fc2b\":fc2b_approx_post,  \"fc3w\": fc3w_approx_post, \"fc3b\": fc3b_approx_post}\n",
    "\n",
    "    lifted_module = pyro.random_module(\"module\", dense, approx_posterior)\n",
    "    \n",
    "    return lifted_module()"
   ]
  },
  {
   "cell_type": "code",
   "execution_count": 55,
   "metadata": {
    "execution": {
     "iopub.execute_input": "2020-08-04T07:52:59.977363Z",
     "iopub.status.busy": "2020-08-04T07:52:59.977100Z",
     "iopub.status.idle": "2020-08-04T07:52:59.981713Z",
     "shell.execute_reply": "2020-08-04T07:52:59.980906Z",
     "shell.execute_reply.started": "2020-08-04T07:52:59.977335Z"
    }
   },
   "outputs": [],
   "source": [
    "optim = pyro.optim.Adam({\"lr\": 0.01})\n",
    "svi = SVI(model, guide, optim, loss=Trace_ELBO())"
   ]
  },
  {
   "cell_type": "code",
   "execution_count": 16,
   "metadata": {
    "execution": {
     "iopub.execute_input": "2020-08-04T07:01:21.105715Z",
     "iopub.status.busy": "2020-08-04T07:01:21.105443Z",
     "iopub.status.idle": "2020-08-04T07:01:30.059363Z",
     "shell.execute_reply": "2020-08-04T07:01:30.058521Z",
     "shell.execute_reply.started": "2020-08-04T07:01:21.105687Z"
    }
   },
   "outputs": [
    {
     "name": "stdout",
     "output_type": "stream",
     "text": [
      "Epoch  0  Loss  0.5759480532048973\n"
     ]
    },
    {
     "name": "stderr",
     "output_type": "stream",
     "text": [
      "/home/ubuntu/.local/lib/python3.6/site-packages/pyro/primitives.py:406: FutureWarning: The `random_module` primitive is deprecated, and will be removed in a future release. Use `pyro.nn.Module` to create Bayesian modules from `torch.nn.Module` instances.\n",
      "  \"modules from `torch.nn.Module` instances.\", FutureWarning)\n"
     ]
    },
    {
     "name": "stdout",
     "output_type": "stream",
     "text": [
      "Epoch  1  Loss  0.4308028729966467\n",
      "Epoch  2  Loss  0.2907571832342086\n",
      "Epoch  3  Loss  0.2576778024488472\n",
      "Epoch  4  Loss  0.19866088971592857\n",
      "Epoch  5  Loss  0.18886162833062217\n",
      "Epoch  6  Loss  0.1887337509417171\n",
      "Epoch  7  Loss  0.18801478422293746\n",
      "Epoch  8  Loss  0.1996707081349443\n",
      "Epoch  9  Loss  0.18544403473938173\n",
      "Epoch  10  Loss  0.19112577635733408\n",
      "Epoch  11  Loss  0.2074123435922001\n",
      "Epoch  12  Loss  0.20213966046853227\n",
      "Epoch  13  Loss  0.1973001002822812\n",
      "Epoch  14  Loss  0.19320969753494818\n",
      "Epoch  15  Loss  0.2023257077742067\n",
      "Epoch  16  Loss  0.19843402616380448\n",
      "Epoch  17  Loss  0.20402066751490408\n",
      "Epoch  18  Loss  0.20274055832674398\n",
      "Epoch  19  Loss  0.20962198453546185\n",
      "Epoch  20  Loss  0.21068258657818303\n",
      "Epoch  21  Loss  0.20850706719054884\n",
      "Epoch  22  Loss  0.21469199395602742\n",
      "Epoch  23  Loss  0.20414196829867154\n",
      "Epoch  24  Loss  0.2266960006713157\n",
      "Epoch  25  Loss  0.2003526754551905\n",
      "Epoch  26  Loss  0.19793699200767004\n",
      "Epoch  27  Loss  0.1836505532732002\n",
      "Epoch  28  Loss  0.2078860823044635\n",
      "Epoch  29  Loss  0.19639049851997148\n",
      "Epoch  30  Loss  0.22486029941035376\n",
      "Epoch  31  Loss  0.2152947952889477\n",
      "Epoch  32  Loss  0.20331258942297095\n",
      "Epoch  33  Loss  0.21120540971159438\n",
      "Epoch  34  Loss  0.22093175920111943\n",
      "Epoch  35  Loss  0.2023717798220743\n",
      "Epoch  36  Loss  0.18180801336366695\n",
      "Epoch  37  Loss  0.18127027263959322\n",
      "Epoch  38  Loss  0.18598469907148538\n",
      "Epoch  39  Loss  0.1932255938693896\n",
      "Epoch  40  Loss  0.18156822078203813\n",
      "Epoch  41  Loss  0.19842301978473437\n",
      "Epoch  42  Loss  0.2062891330485436\n",
      "Epoch  43  Loss  0.20968551526493573\n",
      "Epoch  44  Loss  0.2047631217881995\n",
      "Epoch  45  Loss  0.20335394137498175\n",
      "Epoch  46  Loss  0.21462213223659693\n",
      "Epoch  47  Loss  0.20337258817943155\n",
      "Epoch  48  Loss  0.19478628299681433\n",
      "Epoch  49  Loss  0.20130170101109193\n"
     ]
    }
   ],
   "source": [
    "num_iterations = 50\n",
    "loss = 0\n",
    "\n",
    "for j in range(num_iterations):\n",
    "    loss = 0\n",
    "    for batch_id, data in enumerate(trainloader):\n",
    "        # calculate the loss and take a gradient step\n",
    "        loss += svi.step(data)\n",
    "    normalizer_train = len(trainloader.dataset)\n",
    "    total_epoch_loss_train = loss / normalizer_train\n",
    "    \n",
    "    print(\"Epoch \", j, \" Loss \", total_epoch_loss_train)"
   ]
  },
  {
   "cell_type": "markdown",
   "metadata": {},
   "source": [
    "# Analysis"
   ]
  },
  {
   "cell_type": "code",
   "execution_count": 384,
   "metadata": {},
   "outputs": [
    {
     "data": {
      "text/plain": [
       "(array([4614.,  386.,    0.]),\n",
       " array([0, 1, 2, 3]),\n",
       " <a list of 3 Patch objects>)"
      ]
     },
     "execution_count": 384,
     "metadata": {},
     "output_type": "execute_result"
    },
    {
     "data": {
      "image/png": "[encoded data removed]",
      "text/plain": [
       "<Figure size 720x504 with 3 Axes>"
      ]
     },
     "metadata": {
      "image/png": {
       "height": 413,
       "width": 606
      },
      "needs_background": "light"
     },
     "output_type": "display_data"
    }
   ],
   "source": [
    "ax1 = plt.subplot(1,3,1)\n",
    "ax1.hist(predicted[:,1].reshape(-1,1),bins=[0,1,2,3],density=False, hatch=\"/\", color='r', edgecolor='black')\n",
    "ax = plt.subplot(1,3,2, sharey=ax1)\n",
    "ax.hist(predicted[:,49].reshape(-1,1),bins=[0,1,2,3],density=False, color='g', edgecolor='black')\n",
    "ax = plt.subplot(1,3,3,sharey=ax1)\n",
    "ax.hist(predicted[:,13].reshape(-1,1),bins=[0,1,2,3],density=False, hatch=\".\", edgecolor='black')"
   ]
  },
  {
   "cell_type": "code",
   "execution_count": 115,
   "metadata": {
    "collapsed": true,
    "jupyter": {
     "outputs_hidden": true
    }
   },
   "outputs": [
    {
     "name": "stdout",
     "output_type": "stream",
     "text": [
      "fc1w_mu tensor([[ 0.1230, -0.8274],\n",
      "        [ 1.0778,  1.3515],\n",
      "        [-0.4878, -0.4072],\n",
      "        [ 1.0617,  1.3786],\n",
      "        [-2.1414, -0.1784],\n",
      "        [-0.4373, -0.9054]], requires_grad=True)\n",
      "fc1w_sigma tensor([[-1.1695,  0.7637],\n",
      "        [-0.1601, -0.1941],\n",
      "        [ 2.0116,  1.6407],\n",
      "        [ 0.0570, -0.1494],\n",
      "        [-0.1442,  0.6626],\n",
      "        [ 1.6812, -0.6774]], requires_grad=True)\n",
      "fc1b_mu tensor([ 0.2829, -0.3415,  0.2397,  0.4814, -0.6288, -0.0053],\n",
      "       requires_grad=True)\n",
      "fc1b_sigma tensor([-0.4504,  1.9364,  0.8772,  0.7990,  0.1504,  2.3177],\n",
      "       requires_grad=True)\n",
      "fc2w_mu tensor([[-1.6115, -1.2755, -0.4039,  1.1034,  0.1217,  1.0527],\n",
      "        [-1.7369,  0.4661, -0.2442, -1.3091, -0.1219,  0.5382],\n",
      "        [ 0.3656,  0.4112, -0.4480,  0.9244,  1.6293, -0.3408]],\n",
      "       requires_grad=True)\n",
      "fc2w_sigma tensor([[-0.3321,  0.9264, -1.2815,  2.0341, -0.0729, -0.2468],\n",
      "        [-0.3096, -0.2147, -0.3156, -0.1335,  0.8371,  0.4430],\n",
      "        [ 0.0404,  0.8403,  1.8279, -1.5401, -0.9986, -0.0854]],\n",
      "       requires_grad=True)\n",
      "fc2b_mu tensor([-1.5329,  0.7605,  0.0612], requires_grad=True)\n",
      "fc2b_sigma tensor([0.4885, 1.3475, 0.5641], requires_grad=True)\n",
      "module$$$fc1.weight Parameter containing:\n",
      "tensor([[-0.1072,  3.2842],\n",
      "        [-0.6565, -0.3133],\n",
      "        [-0.1683, -0.5383],\n",
      "        [-0.1275, -0.5490],\n",
      "        [-0.2640, -0.1514],\n",
      "        [ 0.4456, -2.9433]], requires_grad=True)\n",
      "module$$$fc1.bias Parameter containing:\n",
      "tensor([-1.0755,  0.0543, -0.0849, -0.1275,  0.3122,  1.5828],\n",
      "       requires_grad=True)\n",
      "module$$$fc2.weight Parameter containing:\n",
      "tensor([[-1.2356, -0.3701, -0.2544,  0.3621, -0.0844,  0.5319],\n",
      "        [-0.1448, -0.4022,  0.3241,  0.2788,  0.3618,  0.1548],\n",
      "        [ 1.1425, -0.1127, -0.3801,  0.1857,  0.0950, -0.4141]],\n",
      "       requires_grad=True)\n",
      "module$$$fc2.bias Parameter containing:\n",
      "tensor([-0.0469,  1.7316, -1.5634], requires_grad=True)\n"
     ]
    }
   ],
   "source": [
    "for name, value in pyro.get_param_store().items():\n",
    "    print(name, pyro.param(name))"
   ]
  },
  {
   "cell_type": "code",
   "execution_count": 174,
   "metadata": {
    "execution": {
     "iopub.execute_input": "2020-08-04T13:10:45.154015Z",
     "iopub.status.busy": "2020-08-04T13:10:45.153745Z",
     "iopub.status.idle": "2020-08-04T13:10:45.161408Z",
     "shell.execute_reply": "2020-08-04T13:10:45.160672Z",
     "shell.execute_reply.started": "2020-08-04T13:10:45.153987Z"
    }
   },
   "outputs": [],
   "source": [
    "num_samples = 10\n",
    "def predict(data):\n",
    "    sampled_models = [guide(None) for _ in range(num_samples)]\n",
    "    predictions = [m(data).data for m in sampled_models]\n",
    "    mean = torch.mean(torch.stack(predictions), 0)\n",
    "    return np.argmax(mean.numpy(), axis=1)"
   ]
  },
  {
   "cell_type": "code",
   "execution_count": 180,
   "metadata": {
    "execution": {
     "iopub.execute_input": "2020-08-04T13:13:07.716603Z",
     "iopub.status.busy": "2020-08-04T13:13:07.716308Z",
     "iopub.status.idle": "2020-08-04T13:13:07.786939Z",
     "shell.execute_reply": "2020-08-04T13:13:07.786043Z",
     "shell.execute_reply.started": "2020-08-04T13:13:07.716572Z"
    }
   },
   "outputs": [
    {
     "name": "stdout",
     "output_type": "stream",
     "text": [
      "accuracy: 88.00\n"
     ]
    }
   ],
   "source": [
    "correct = 0\n",
    "total = 0\n",
    "for j, data in enumerate(testloader):\n",
    "    features = data[\"features\"]\n",
    "    labels = data[\"outcomes\"]\n",
    "    predicted = predict(features)\n",
    "    total += labels.size(0)\n",
    "    correct += (np.array(predicted) == np.array(labels)).sum().item()\n",
    "print(\"accuracy: {:.2f}\".format(100 * correct / total))"
   ]
  },
  {
   "cell_type": "code",
   "execution_count": null,
   "metadata": {},
   "outputs": [],
   "source": []
  }
 ],
 "metadata": {
  "kernelspec": {
   "display_name": "Python 3",
   "language": "python",
   "name": "python3"
  },
  "language_info": {
   "codemirror_mode": {
    "name": "ipython",
    "version": 3
   },
   "file_extension": ".py",
   "mimetype": "text/x-python",
   "name": "python",
   "nbconvert_exporter": "python",
   "pygments_lexer": "ipython3",
   "version": "3.6.9"
  }
 },
 "nbformat": 4,
 "nbformat_minor": 4
}
