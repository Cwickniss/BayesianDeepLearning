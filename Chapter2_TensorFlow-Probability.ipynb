{
 "cells": [
  {
   "cell_type": "code",
   "execution_count": 1,
   "metadata": {
    "execution": {
     "iopub.execute_input": "2020-08-04T13:26:45.152821Z",
     "iopub.status.busy": "2020-08-04T13:26:45.152560Z",
     "iopub.status.idle": "2020-08-04T13:26:47.865484Z",
     "shell.execute_reply": "2020-08-04T13:26:47.864802Z",
     "shell.execute_reply.started": "2020-08-04T13:26:45.152792Z"
    }
   },
   "outputs": [],
   "source": [
    "import tensorflow as tf\n",
    "# tf.enable_eager_execution()\n",
    "import tensorflow_probability as tfp\n",
    "\n",
    "dist = tfp.distributions\n",
    "\n",
    "import matplotlib.pyplot as plt\n",
    "import pandas as pd\n",
    "import numpy as np"
   ]
  },
  {
   "cell_type": "markdown",
   "metadata": {},
   "source": [
    "# Data"
   ]
  },
  {
   "cell_type": "code",
   "execution_count": 2,
   "metadata": {
    "execution": {
     "iopub.execute_input": "2020-08-04T13:28:54.803067Z",
     "iopub.status.busy": "2020-08-04T13:28:54.802803Z",
     "iopub.status.idle": "2020-08-04T13:28:54.829286Z",
     "shell.execute_reply": "2020-08-04T13:28:54.828483Z",
     "shell.execute_reply.started": "2020-08-04T13:28:54.803039Z"
    }
   },
   "outputs": [
    {
     "data": {
      "text/html": [
       "<div>\n",
       "<style scoped>\n",
       "    .dataframe tbody tr th:only-of-type {\n",
       "        vertical-align: middle;\n",
       "    }\n",
       "\n",
       "    .dataframe tbody tr th {\n",
       "        vertical-align: top;\n",
       "    }\n",
       "\n",
       "    .dataframe thead th {\n",
       "        text-align: right;\n",
       "    }\n",
       "</style>\n",
       "<table border=\"1\" class=\"dataframe\">\n",
       "  <thead>\n",
       "    <tr style=\"text-align: right;\">\n",
       "      <th></th>\n",
       "      <th>weight</th>\n",
       "      <th>time</th>\n",
       "      <th>outcome</th>\n",
       "    </tr>\n",
       "  </thead>\n",
       "  <tbody>\n",
       "    <tr>\n",
       "      <th>0</th>\n",
       "      <td>55.0</td>\n",
       "      <td>7.1</td>\n",
       "      <td>2</td>\n",
       "    </tr>\n",
       "    <tr>\n",
       "      <th>1</th>\n",
       "      <td>55.2</td>\n",
       "      <td>2.8</td>\n",
       "      <td>0</td>\n",
       "    </tr>\n",
       "    <tr>\n",
       "      <th>2</th>\n",
       "      <td>59.2</td>\n",
       "      <td>5.1</td>\n",
       "      <td>2</td>\n",
       "    </tr>\n",
       "    <tr>\n",
       "      <th>3</th>\n",
       "      <td>47.3</td>\n",
       "      <td>2.1</td>\n",
       "      <td>0</td>\n",
       "    </tr>\n",
       "    <tr>\n",
       "      <th>4</th>\n",
       "      <td>62.9</td>\n",
       "      <td>6.8</td>\n",
       "      <td>2</td>\n",
       "    </tr>\n",
       "    <tr>\n",
       "      <th>5</th>\n",
       "      <td>51.0</td>\n",
       "      <td>3.0</td>\n",
       "      <td>0</td>\n",
       "    </tr>\n",
       "    <tr>\n",
       "      <th>6</th>\n",
       "      <td>58.6</td>\n",
       "      <td>6.4</td>\n",
       "      <td>2</td>\n",
       "    </tr>\n",
       "    <tr>\n",
       "      <th>7</th>\n",
       "      <td>52.4</td>\n",
       "      <td>1.5</td>\n",
       "      <td>0</td>\n",
       "    </tr>\n",
       "    <tr>\n",
       "      <th>8</th>\n",
       "      <td>55.3</td>\n",
       "      <td>4.6</td>\n",
       "      <td>2</td>\n",
       "    </tr>\n",
       "    <tr>\n",
       "      <th>9</th>\n",
       "      <td>56.5</td>\n",
       "      <td>4.8</td>\n",
       "      <td>1</td>\n",
       "    </tr>\n",
       "  </tbody>\n",
       "</table>\n",
       "</div>"
      ],
      "text/plain": [
       "   weight  time  outcome\n",
       "0    55.0   7.1        2\n",
       "1    55.2   2.8        0\n",
       "2    59.2   5.1        2\n",
       "3    47.3   2.1        0\n",
       "4    62.9   6.8        2\n",
       "5    51.0   3.0        0\n",
       "6    58.6   6.4        2\n",
       "7    52.4   1.5        0\n",
       "8    55.3   4.6        2\n",
       "9    56.5   4.8        1"
      ]
     },
     "execution_count": 2,
     "metadata": {},
     "output_type": "execute_result"
    }
   ],
   "source": [
    "egg_timing_df = pd.read_csv(\"egg_times.csv\",index_col=0)\n",
    "egg_timing_df.head(n=10)"
   ]
  },
  {
   "cell_type": "code",
   "execution_count": 3,
   "metadata": {
    "execution": {
     "iopub.execute_input": "2020-08-04T13:28:57.722980Z",
     "iopub.status.busy": "2020-08-04T13:28:57.722700Z",
     "iopub.status.idle": "2020-08-04T13:28:57.732906Z",
     "shell.execute_reply": "2020-08-04T13:28:57.732144Z",
     "shell.execute_reply.started": "2020-08-04T13:28:57.722952Z"
    }
   },
   "outputs": [],
   "source": [
    "egg_timing_df = egg_timing_df.sample(frac=1).reset_index(drop=True)\n",
    "\n",
    "train_ = egg_timing_df[['weight','time']].values # TensorFlow/Keras likes numpy/arrays rather than Dataframes\n",
    "target_ = egg_timing_df['outcome'].values #.to_numpy()\n",
    "\n",
    "train_in = train_[:-50] # get all except the last 50 for training\n",
    "train_target = target_[:-50]\n",
    "\n",
    "val_in = train_[-50:] # take all from the last 50 for validation\n",
    "val_target = target_[-50:]"
   ]
  },
  {
   "cell_type": "markdown",
   "metadata": {},
   "source": [
    "# Logger"
   ]
  },
  {
   "cell_type": "code",
   "execution_count": 4,
   "metadata": {
    "execution": {
     "iopub.execute_input": "2020-08-04T13:29:01.808750Z",
     "iopub.status.busy": "2020-08-04T13:29:01.808482Z",
     "iopub.status.idle": "2020-08-04T13:29:01.819245Z",
     "shell.execute_reply": "2020-08-04T13:29:01.818397Z",
     "shell.execute_reply.started": "2020-08-04T13:29:01.808722Z"
    }
   },
   "outputs": [],
   "source": [
    "class ShortLog(tf.keras.callbacks.Callback):\n",
    "\n",
    "    def __init__(self, learning_rate = None):\n",
    "        self.learning_rate = learning_rate\n",
    "    \n",
    "    def on_train_begin(self, logs={}):\n",
    "        self.losses = []\n",
    "        self.i = 0\n",
    "        self.epoch = 0\n",
    "        self.update_log = False\n",
    "        self.epoch_loss = []\n",
    "\n",
    "    def on_batch_end(self, batch, logs={}):\n",
    "        \n",
    "        self.losses.append(logs.get('loss'))\n",
    "        self.i+=1\n",
    "        \n",
    "    def print_accuracy(self, logs):\n",
    "        if 'val_sparse_categorical_accuracy' in logs:\n",
    "            print(\"Accuracy:\", logs.get('val_sparse_categorical_accuracy'))\n",
    "        elif 'val_accuracy' in logs:\n",
    "            print(\"Accuracy:\", logs.get('val_accuracy'))\n",
    "        else: print(\"Accuracy not found as metric in log keys: \", list(logs.keys()))\n",
    "            \n",
    "    def on_epoch_end(self, epoch, logs={}):\n",
    "        if (self.epoch == 0 and self.learning_rate is not None):\n",
    "            print(\"Learning rate:\", learning_rate)\n",
    "        \n",
    "        self.epoch+=1\n",
    "        if self.epoch%150==0:\n",
    "            print(\"Epoch loss ({}):\".format(self.epoch), sum(self.losses[-10:]) / 10)\n",
    "            self.print_accuracy(logs)      \n",
    "                \n",
    "    def on_train_end(self, logs={}):\n",
    "        print(\"Final loss:\", sum(self.losses[-10:]) / 10, \"at epoch:\", str(self.epoch))\n",
    "        self.final_string = \"LR: {} final loss: {:.3f} at epoch {}\".format(learning_rate, sum(self.losses[-10:]) / 10, self.epoch)\n",
    "        print(\"[Final] \", end='')\n",
    "        self.print_accuracy(logs)\n",
    "        \n",
    "log = ShortLog()"
   ]
  },
  {
   "cell_type": "markdown",
   "metadata": {},
   "source": [
    "# Conventional dense model"
   ]
  },
  {
   "cell_type": "code",
   "execution_count": 32,
   "metadata": {
    "execution": {
     "iopub.execute_input": "2020-08-03T10:09:25.227846Z",
     "iopub.status.busy": "2020-08-03T10:09:25.227584Z",
     "iopub.status.idle": "2020-08-03T10:09:25.271805Z",
     "shell.execute_reply": "2020-08-03T10:09:25.271107Z",
     "shell.execute_reply.started": "2020-08-03T10:09:25.227818Z"
    }
   },
   "outputs": [],
   "source": [
    "tf.keras.backend.clear_session()\n",
    "\n",
    "model = tf.keras.Sequential([\n",
    "    tf.keras.Input(shape=(2,),name=\"basket\"),\n",
    "    tf.keras.layers.Dense(16, activation=\"relu\", name=\"dense_1\"),\n",
    "    tf.keras.layers.Dense(6, activation=\"relu\", name=\"dense_2\"),\n",
    "    tf.keras.layers.Dense(3, activation=\"softmax\", name=\"out_pred\"),\n",
    "])\n",
    "\n",
    "learning_rate = 1.0e-4\n",
    "model.compile(optimizer=tf.keras.optimizers.Adam(learning_rate),\n",
    "              loss='sparse_categorical_crossentropy',\n",
    "              metrics=[tf.keras.metrics.SparseCategoricalAccuracy()\n",
    "                      ])\n",
    "\n",
    "tensorboard_callback = tf.keras.callbacks.TensorBoard(log_dir=\"./logs/egg_times\", histogram_freq=1)"
   ]
  },
  {
   "cell_type": "markdown",
   "metadata": {},
   "source": [
    "### Class weights"
   ]
  },
  {
   "cell_type": "code",
   "execution_count": 10,
   "metadata": {
    "execution": {
     "iopub.execute_input": "2020-08-03T09:52:30.509227Z",
     "iopub.status.busy": "2020-08-03T09:52:30.508966Z",
     "iopub.status.idle": "2020-08-03T09:52:30.520208Z",
     "shell.execute_reply": "2020-08-03T09:52:30.519361Z",
     "shell.execute_reply.started": "2020-08-03T09:52:30.509199Z"
    }
   },
   "outputs": [
    {
     "name": "stdout",
     "output_type": "stream",
     "text": [
      "0.3161189358372457\n",
      "0.18309859154929578\n",
      "0.5007824726134585\n",
      "0.365625\n",
      "0.5792079207920792\n"
     ]
    }
   ],
   "source": [
    "n = len(target_)\n",
    "num_underdone = sum(target_==0)\n",
    "print(num_underdone / n)\n",
    "num_softboiled = sum(target_==1)\n",
    "print(num_softboiled / n)\n",
    "num_hardboiled = sum(target_==2)\n",
    "print(num_hardboiled / n)\n",
    "\n",
    "softboiled_class_weight = 1.0\n",
    "\n",
    "hardboiled_class_weight = num_softboiled / num_hardboiled\n",
    "print(hardboiled_class_weight)\n",
    "\n",
    "underdone_class_weight = num_softboiled / num_underdone\n",
    "print(underdone_class_weight)\n",
    "\n",
    "class_weights = {0:underdone_class_weight, 1:softboiled_class_weight, 2: hardboiled_class_weight}"
   ]
  },
  {
   "cell_type": "markdown",
   "metadata": {},
   "source": [
    "### Conventional model training"
   ]
  },
  {
   "cell_type": "code",
   "execution_count": 27,
   "metadata": {
    "execution": {
     "iopub.execute_input": "2020-08-03T10:07:45.930228Z",
     "iopub.status.busy": "2020-08-03T10:07:45.929971Z",
     "iopub.status.idle": "2020-08-03T10:07:59.756875Z",
     "shell.execute_reply": "2020-08-03T10:07:59.755957Z",
     "shell.execute_reply.started": "2020-08-03T10:07:45.930201Z"
    }
   },
   "outputs": [
    {
     "name": "stdout",
     "output_type": "stream",
     "text": [
      "WARNING:tensorflow:Callbacks method `on_train_batch_end` is slow compared to the batch time (batch time: 0.0017s vs `on_train_batch_end` time: 0.0199s). Check your callbacks.\n",
      "Epoch loss (150): 0.11744973734021187\n",
      "Accuracy: 0.84375\n",
      "Epoch loss (300): 0.12729525417089463\n",
      "Accuracy: 0.84375\n",
      "Epoch loss (450): 0.12101710960268974\n",
      "Accuracy: 0.84375\n",
      "Final loss: 0.11332497745752335 at epoch: 500\n",
      "Final accuracy: 0.84375\n"
     ]
    }
   ],
   "source": [
    "history = model.fit(train_, \n",
    "                    target_,\n",
    "                    class_weight=class_weights,\n",
    "                    epochs=500, \n",
    "                    verbose=0, \n",
    "                    use_multiprocessing=True, \n",
    "                    callbacks=[tensorboard_callback, log],\n",
    "                    validation_split=0.1,\n",
    "                    validation_freq=10)"
   ]
  },
  {
   "cell_type": "code",
   "execution_count": 25,
   "metadata": {
    "execution": {
     "iopub.execute_input": "2020-08-03T10:06:24.918172Z",
     "iopub.status.busy": "2020-08-03T10:06:24.917907Z",
     "iopub.status.idle": "2020-08-03T10:06:39.271621Z",
     "shell.execute_reply": "2020-08-03T10:06:39.270745Z",
     "shell.execute_reply.started": "2020-08-03T10:06:24.918144Z"
    }
   },
   "outputs": [
    {
     "name": "stdout",
     "output_type": "stream",
     "text": [
      "WARNING:tensorflow:Callbacks method `on_train_batch_end` is slow compared to the batch time (batch time: 0.0011s vs `on_train_batch_end` time: 0.0189s). Check your callbacks.\n",
      "Epoch loss (150): 0.7881826400756836\n",
      "Accuracy: 0.765625\n",
      "Epoch loss (300): 0.554853355884552\n",
      "Accuracy: 0.796875\n",
      "Epoch loss (450): 0.3759600520133972\n",
      "Accuracy: 0.8125\n",
      "Epoch loss (600): 0.25002692341804506\n",
      "Accuracy: 0.84375\n",
      "Epoch loss (750): 0.2151302605867386\n",
      "Accuracy: 0.859375\n",
      "Final loss: 0.22033424377441407 at epoch: 800\n",
      "Final accuracy: 0.859375\n"
     ]
    }
   ],
   "source": [
    "history = model.fit(train_, \n",
    "                    target_,\n",
    "                    epochs=800, \n",
    "                    verbose=0, \n",
    "                    use_multiprocessing=True, \n",
    "                    callbacks=[tensorboard_callback, log],\n",
    "                    validation_split=0.1,\n",
    "                    validation_freq=25)"
   ]
  },
  {
   "cell_type": "markdown",
   "metadata": {},
   "source": [
    "#### Overfitting"
   ]
  },
  {
   "cell_type": "code",
   "execution_count": 23,
   "metadata": {
    "execution": {
     "iopub.execute_input": "2020-08-03T10:05:11.783165Z",
     "iopub.status.busy": "2020-08-03T10:05:11.782910Z",
     "iopub.status.idle": "2020-08-03T10:05:49.528436Z",
     "shell.execute_reply": "2020-08-03T10:05:49.527599Z",
     "shell.execute_reply.started": "2020-08-03T10:05:11.783139Z"
    }
   },
   "outputs": [
    {
     "name": "stdout",
     "output_type": "stream",
     "text": [
      "WARNING:tensorflow:Callbacks method `on_train_batch_end` is slow compared to the batch time (batch time: 0.0011s vs `on_train_batch_end` time: 0.0046s). Check your callbacks.\n",
      "Epoch loss (150): 0.12781964018940925\n",
      "Accuracy: 0.84375\n",
      "Epoch loss (300): 0.11481734663248062\n",
      "Accuracy: 0.84375\n",
      "Epoch loss (450): 0.11937282159924507\n",
      "Accuracy: 0.859375\n",
      "Epoch loss (600): 0.11491901576519012\n",
      "Accuracy: 0.859375\n",
      "Epoch loss (750): 0.1100748434662819\n",
      "Accuracy: 0.859375\n",
      "Epoch loss (900): 0.11018935143947602\n",
      "Accuracy: 0.875\n",
      "Epoch loss (1050): 0.11020243018865586\n",
      "Accuracy: 0.859375\n",
      "Epoch loss (1200): 0.10533208325505257\n",
      "Accuracy: 0.859375\n",
      "Epoch loss (1350): 0.11466589495539665\n",
      "Accuracy: 0.859375\n",
      "Epoch loss (1500): 0.10010877698659897\n",
      "Accuracy: 0.84375\n",
      "Epoch loss (1650): 0.10901476144790649\n",
      "Accuracy: 0.84375\n",
      "Epoch loss (1800): 0.10481120273470879\n",
      "Accuracy: 0.828125\n",
      "Epoch loss (1950): 0.11046609058976173\n",
      "Accuracy: 0.859375\n",
      "Final loss: 0.10424004942178726 at epoch: 2000\n",
      "Final accuracy: 0.859375\n"
     ]
    }
   ],
   "source": [
    "history = model.fit(train_, \n",
    "                    target_,\n",
    "                    class_weight=class_weights,\n",
    "                    epochs=2000, \n",
    "                    verbose=0, \n",
    "                    use_multiprocessing=True, \n",
    "                    callbacks=[tensorboard_callback, log],\n",
    "                    validation_split=0.1,\n",
    "                    validation_freq=25)"
   ]
  },
  {
   "cell_type": "markdown",
   "metadata": {},
   "source": [
    "# Model "
   ]
  },
  {
   "cell_type": "markdown",
   "metadata": {},
   "source": [
    "### KL divergence function"
   ]
  },
  {
   "cell_type": "code",
   "execution_count": 6,
   "metadata": {
    "execution": {
     "iopub.execute_input": "2020-08-04T13:29:19.818031Z",
     "iopub.status.busy": "2020-08-04T13:29:19.817748Z",
     "iopub.status.idle": "2020-08-04T13:29:19.822452Z",
     "shell.execute_reply": "2020-08-04T13:29:19.821604Z",
     "shell.execute_reply.started": "2020-08-04T13:29:19.818002Z"
    }
   },
   "outputs": [],
   "source": [
    "dataset_size = len(train_)\n",
    "\n",
    "kl_divergence_function = (lambda q, p, _: dist.kl_divergence(q, p) / tf.cast(dataset_size, dtype=tf.float32))"
   ]
  },
  {
   "cell_type": "code",
   "execution_count": 7,
   "metadata": {
    "execution": {
     "iopub.execute_input": "2020-08-04T13:29:20.749509Z",
     "iopub.status.busy": "2020-08-04T13:29:20.749219Z",
     "iopub.status.idle": "2020-08-04T13:29:21.044976Z",
     "shell.execute_reply": "2020-08-04T13:29:21.044286Z",
     "shell.execute_reply.started": "2020-08-04T13:29:20.749481Z"
    }
   },
   "outputs": [
    {
     "name": "stdout",
     "output_type": "stream",
     "text": [
      "WARNING:tensorflow:From /home/ubuntu/.local/lib/python3.6/site-packages/tensorflow_probability/python/layers/util.py:106: Layer.add_variable (from tensorflow.python.keras.engine.base_layer) is deprecated and will be removed in a future version.\n",
      "Instructions for updating:\n",
      "Please use `layer.add_weight` method instead.\n"
     ]
    }
   ],
   "source": [
    "tf.keras.backend.clear_session()\n",
    "\n",
    "model_tfp = tf.keras.Sequential([\n",
    "    tf.keras.Input(shape=(2,),name=\"basket\"),\n",
    "    tfp.layers.DenseFlipout(16, kernel_divergence_fn=kl_divergence_function, activation=tf.nn.relu, name=\"dense_tfp_1\"),\n",
    "    tfp.layers.DenseFlipout(6, kernel_divergence_fn=kl_divergence_function, activation=tf.nn.relu, name=\"dense_tfp_2\"),\n",
    "    tfp.layers.DenseFlipout(3, kernel_divergence_fn=kl_divergence_function, activation=tf.nn.softmax, name=\"out_tfp_pred\"),\n",
    "])\n",
    "\n",
    "learning_rate = 0.01\n",
    "\n",
    "model_tfp.compile(optimizer=tf.keras.optimizers.Adam(learning_rate),\n",
    "                  loss='categorical_crossentropy',\n",
    "                  metrics=['accuracy'])\n",
    "\n",
    "tensorboard_callback = tf.keras.callbacks.TensorBoard(log_dir=\"./logs/egg_times_tfp\", histogram_freq=1)"
   ]
  },
  {
   "cell_type": "code",
   "execution_count": 8,
   "metadata": {
    "execution": {
     "iopub.execute_input": "2020-08-04T13:29:34.992057Z",
     "iopub.status.busy": "2020-08-04T13:29:34.991788Z",
     "iopub.status.idle": "2020-08-04T13:29:55.064207Z",
     "shell.execute_reply": "2020-08-04T13:29:55.063308Z",
     "shell.execute_reply.started": "2020-08-04T13:29:34.992028Z"
    }
   },
   "outputs": [
    {
     "name": "stdout",
     "output_type": "stream",
     "text": [
      "WARNING:tensorflow:From /home/ubuntu/.local/lib/python3.6/site-packages/tensorflow/python/ops/summary_ops_v2.py:1277: stop (from tensorflow.python.eager.profiler) is deprecated and will be removed after 2020-07-01.\n",
      "Instructions for updating:\n",
      "use `tf.profiler.experimental.stop` instead.\n",
      "WARNING:tensorflow:Callbacks method `on_train_batch_end` is slow compared to the batch time (batch time: 0.0018s vs `on_train_batch_end` time: 0.0134s). Check your callbacks.\n",
      "Epoch loss (150): 0.35134720206260683\n",
      "Accuracy: 0.90625\n",
      "Epoch loss (300): 0.32558682560920715\n",
      "Accuracy: 0.84375\n",
      "Epoch loss (450): 0.3078991651535034\n",
      "Accuracy: 0.9375\n",
      "Epoch loss (600): 0.30253618359565737\n",
      "Accuracy: 0.921875\n",
      "Epoch loss (750): 0.3097670912742615\n",
      "Accuracy: 0.90625\n",
      "Final loss: 0.3168871432542801 at epoch: 800\n",
      "[Final] Accuracy: 0.90625\n"
     ]
    }
   ],
   "source": [
    "history = model_tfp.fit(train_, \n",
    "                    tf.one_hot(target_,3),\n",
    "                    epochs=800, \n",
    "                    verbose=0, \n",
    "                    use_multiprocessing=True, \n",
    "                    callbacks=[tensorboard_callback, log],\n",
    "                    validation_split=0.1,\n",
    "                    validation_freq=25)"
   ]
  },
  {
   "cell_type": "code",
   "execution_count": 14,
   "metadata": {
    "execution": {
     "iopub.execute_input": "2020-08-03T10:34:26.915583Z",
     "iopub.status.busy": "2020-08-03T10:34:26.915306Z",
     "iopub.status.idle": "2020-08-03T10:34:46.657207Z",
     "shell.execute_reply": "2020-08-03T10:34:46.656310Z",
     "shell.execute_reply.started": "2020-08-03T10:34:26.915554Z"
    }
   },
   "outputs": [
    {
     "name": "stdout",
     "output_type": "stream",
     "text": [
      "WARNING:tensorflow:From /home/ubuntu/.local/lib/python3.6/site-packages/tensorflow/python/ops/summary_ops_v2.py:1277: stop (from tensorflow.python.eager.profiler) is deprecated and will be removed after 2020-07-01.\n",
      "Instructions for updating:\n",
      "use `tf.profiler.experimental.stop` instead.\n",
      "WARNING:tensorflow:Callbacks method `on_train_batch_end` is slow compared to the batch time (batch time: 0.0016s vs `on_train_batch_end` time: 0.0135s). Check your callbacks.\n",
      "Epoch loss (150): 0.3622047811746597\n",
      "Accuracy: 0.90625\n",
      "Epoch loss (300): 0.286084321141243\n",
      "Accuracy: 0.78125\n",
      "Epoch loss (450): 0.33475127518177034\n",
      "Accuracy: 0.890625\n",
      "Epoch loss (600): 0.2971009910106659\n",
      "Accuracy: 0.890625\n",
      "Epoch loss (750): 0.2992729216814041\n",
      "Accuracy: 0.90625\n",
      "Final loss: 0.31931486427783967 at epoch: 800\n",
      "Final accuracy: None\n"
     ]
    }
   ],
   "source": [
    "history = model_tfp.fit(train_, \n",
    "                    tf.one_hot(target_,3),\n",
    "                    epochs=800, \n",
    "                    verbose=0, \n",
    "                    use_multiprocessing=True, \n",
    "                    callbacks=[tensorboard_callback, log],\n",
    "                    validation_split=0.1,\n",
    "                    validation_freq=25)"
   ]
  },
  {
   "cell_type": "code",
   "execution_count": 17,
   "metadata": {
    "execution": {
     "iopub.execute_input": "2020-08-03T10:37:33.403418Z",
     "iopub.status.busy": "2020-08-03T10:37:33.403151Z",
     "iopub.status.idle": "2020-08-03T10:37:51.480274Z",
     "shell.execute_reply": "2020-08-03T10:37:51.479510Z",
     "shell.execute_reply.started": "2020-08-03T10:37:33.403391Z"
    }
   },
   "outputs": [
    {
     "name": "stdout",
     "output_type": "stream",
     "text": [
      "WARNING:tensorflow:Callbacks method `on_train_batch_end` is slow compared to the batch time (batch time: 0.0012s vs `on_train_batch_end` time: 0.0052s). Check your callbacks.\n",
      "Epoch loss (150): 0.2784253627061844\n",
      "Accuracy: 0.90625\n",
      "Epoch loss (300): 0.2881740391254425\n",
      "Accuracy: 0.890625\n",
      "Epoch loss (450): 0.2943431407213211\n",
      "Accuracy: 0.90625\n",
      "Epoch loss (600): 0.3073088705539703\n",
      "Accuracy: 0.890625\n",
      "Epoch loss (750): 0.30731976628303526\n",
      "Accuracy: 0.890625\n",
      "Final loss: 0.30613012611866 at epoch: 800\n",
      "[Final] Accuracy: 0.90625\n"
     ]
    }
   ],
   "source": [
    "history = model_tfp.fit(train_, \n",
    "                    tf.one_hot(target_,3),\n",
    "                    epochs=800, \n",
    "                    verbose=0, \n",
    "                    use_multiprocessing=True, \n",
    "                    callbacks=[tensorboard_callback, log],\n",
    "                    validation_split=0.1,\n",
    "                    validation_freq=25)"
   ]
  },
  {
   "cell_type": "markdown",
   "metadata": {},
   "source": [
    "# Training"
   ]
  },
  {
   "cell_type": "code",
   "execution_count": 86,
   "metadata": {
    "execution": {
     "iopub.execute_input": "2020-08-02T09:49:40.279530Z",
     "iopub.status.busy": "2020-08-02T09:49:40.279245Z",
     "iopub.status.idle": "2020-08-02T09:52:35.861924Z",
     "shell.execute_reply": "2020-08-02T09:52:35.861013Z",
     "shell.execute_reply.started": "2020-08-02T09:49:40.279499Z"
    }
   },
   "outputs": [
    {
     "name": "stdout",
     "output_type": "stream",
     "text": [
      "WARNING:tensorflow:Callbacks method `on_train_batch_end` is slow compared to the batch time (batch time: 0.0013s vs `on_train_batch_end` time: 0.0319s). Check your callbacks.\n",
      "Epoch loss (150): 0.3543117523193359\n",
      "Accuracy: 0.9165217280387878\n",
      "Epoch loss (300): 0.3221668541431427\n",
      "Accuracy: 0.9200000166893005\n",
      "Epoch loss (450): 0.30578828454017637\n",
      "Accuracy: 0.9217391014099121\n",
      "Epoch loss (600): 0.27604193389415743\n",
      "Accuracy: 0.9286956787109375\n",
      "Epoch loss (750): 0.29383315742015836\n",
      "Accuracy: 0.9321739077568054\n",
      "Epoch loss (900): 0.28263588845729826\n",
      "Accuracy: 0.9286956787109375\n",
      "Epoch loss (1050): 0.27674171328544617\n",
      "Accuracy: 0.9304347634315491\n",
      "Epoch loss (1200): 0.2807096689939499\n",
      "Accuracy: 0.9182608723640442\n",
      "Epoch loss (1350): 0.31983613669872285\n",
      "Accuracy: 0.9200000166893005\n",
      "Epoch loss (1500): 0.3245747029781342\n",
      "Accuracy: 0.9200000166893005\n",
      "Epoch loss (1650): 0.26724470853805543\n",
      "Accuracy: 0.9304347634315491\n",
      "Epoch loss (1800): 0.2872628509998322\n",
      "Accuracy: 0.9304347634315491\n",
      "Epoch loss (1950): 0.2659541144967079\n",
      "Accuracy: 0.9304347634315491\n",
      "Epoch loss (2100): 0.3526884883642197\n",
      "Accuracy: 0.9321739077568054\n",
      "Epoch loss (2250): 0.2806111454963684\n",
      "Accuracy: 0.9321739077568054\n",
      "Epoch loss (2400): 0.27157743871212003\n",
      "Accuracy: 0.9234782457351685\n",
      "Epoch loss (2550): 0.3068846374750137\n",
      "Accuracy: 0.9200000166893005\n",
      "Epoch loss (2700): 0.2824955403804779\n",
      "Accuracy: 0.9200000166893005\n",
      "Epoch loss (2850): 0.25979822874069214\n",
      "Accuracy: 0.9339130520820618\n",
      "Epoch loss (3000): 0.2750550091266632\n",
      "Accuracy: 0.9252173900604248\n",
      "Epoch loss (3150): 0.2638262748718262\n",
      "Accuracy: 0.9321739077568054\n",
      "Epoch loss (3300): 0.2722280561923981\n",
      "Accuracy: 0.9269565343856812\n",
      "Epoch loss (3450): 0.290324667096138\n",
      "Accuracy: 0.9321739077568054\n",
      "Epoch loss (3600): 0.3136308521032333\n",
      "Accuracy: 0.9252173900604248\n",
      "Epoch loss (3750): 0.29051109552383425\n",
      "Accuracy: 0.9356521964073181\n",
      "Epoch loss (3900): 0.31001371145248413\n",
      "Accuracy: 0.9165217280387878\n",
      "Epoch loss (4050): 0.3451697647571564\n",
      "Accuracy: 0.9304347634315491\n",
      "Epoch loss (4200): 0.8733109891414642\n",
      "Accuracy: 0.9060869812965393\n",
      "Epoch loss (4350): 0.2863693475723267\n",
      "Accuracy: 0.9234782457351685\n",
      "Epoch loss (4500): 0.3288960337638855\n",
      "Accuracy: 0.9182608723640442\n",
      "Epoch loss (4650): 0.33910585939884186\n",
      "Accuracy: 0.9095652103424072\n",
      "Epoch loss (4800): 0.29415049254894254\n",
      "Accuracy: 0.9217391014099121\n",
      "Epoch loss (4950): 0.29263546168804166\n",
      "Accuracy: 0.9252173900604248\n",
      "Epoch loss (5100): 0.3027107983827591\n",
      "Accuracy: 0.9200000166893005\n",
      "Epoch loss (5250): 0.29164240658283236\n",
      "Accuracy: 0.9252173900604248\n",
      "Epoch loss (5400): 0.2740338325500488\n",
      "Accuracy: 0.9252173900604248\n",
      "Epoch loss (5550): 0.3051920384168625\n",
      "Accuracy: 0.9286956787109375\n",
      "Epoch loss (5700): 0.28314905166625975\n",
      "Accuracy: 0.9356521964073181\n",
      "Epoch loss (5850): 0.30520559251308443\n",
      "Accuracy: 0.9339130520820618\n",
      "Epoch loss (6000): 0.27957841455936433\n",
      "Accuracy: 0.9339130520820618\n",
      "Epoch loss (6150): 0.27320011854171755\n",
      "Accuracy: 0.9269565343856812\n",
      "Epoch loss (6300): 0.27445201873779296\n",
      "Accuracy: 0.9286956787109375\n",
      "Epoch loss (6450): 0.31528604626655576\n",
      "Accuracy: 0.9304347634315491\n",
      "Epoch loss (6600): 0.28112334907054903\n",
      "Accuracy: 0.9286956787109375\n",
      "Epoch loss (6750): 0.27664361894130707\n",
      "Accuracy: 0.9321739077568054\n",
      "Epoch loss (6900): 0.26705165952444077\n",
      "Accuracy: 0.9304347634315491\n",
      "Epoch loss (7050): 0.2774007558822632\n",
      "Accuracy: 0.9286956787109375\n",
      "Epoch loss (7200): 0.29663875699043274\n",
      "Accuracy: 0.9252173900604248\n",
      "Epoch loss (7350): 0.3629771798849106\n",
      "Accuracy: 0.9113043546676636\n",
      "Epoch loss (7500): 0.3017822176218033\n",
      "Accuracy: 0.9286956787109375\n",
      "Epoch loss (7650): 0.3172051429748535\n",
      "Accuracy: 0.9234782457351685\n",
      "Epoch loss (7800): 0.2850115716457367\n",
      "Accuracy: 0.9269565343856812\n",
      "Epoch loss (7950): 0.2865135490894318\n",
      "Accuracy: 0.9304347634315491\n",
      "Epoch loss (8100): 0.2961115151643753\n",
      "Accuracy: 0.9252173900604248\n",
      "Epoch loss (8250): 0.3120213449001312\n",
      "Accuracy: 0.9252173900604248\n",
      "Epoch loss (8400): 0.27943688035011294\n",
      "Accuracy: 0.9269565343856812\n",
      "Epoch loss (8550): 0.3031368762254715\n",
      "Accuracy: 0.9304347634315491\n",
      "Epoch loss (8700): 0.27615064680576323\n",
      "Accuracy: 0.9234782457351685\n",
      "Epoch loss (8850): 0.280538871884346\n",
      "Accuracy: 0.9269565343856812\n",
      "Epoch loss (9000): 0.289412385225296\n",
      "Accuracy: 0.9234782457351685\n",
      "Epoch loss (9150): 0.29625315219163895\n",
      "Accuracy: 0.9252173900604248\n",
      "Epoch loss (9300): 0.2859324723482132\n",
      "Accuracy: 0.9217391014099121\n",
      "Epoch loss (9450): 0.28739846050739287\n",
      "Accuracy: 0.9339130520820618\n",
      "Epoch loss (9600): 0.3093708246946335\n",
      "Accuracy: 0.9234782457351685\n",
      "Epoch loss (9750): 0.27956066131591795\n",
      "Accuracy: 0.9269565343856812\n",
      "Epoch loss (9900): 0.32010740637779234\n",
      "Accuracy: 0.9182608723640442\n",
      "Final loss: 0.28378887176513673 at epoch: 10000\n"
     ]
    }
   ],
   "source": [
    "history = model_tfp.fit(train_, \n",
    "                    tf.one_hot(target_,3),\n",
    "                    epochs=10000, \n",
    "                    batch_size=50,\n",
    "                    verbose=0, \n",
    "                    use_multiprocessing=False, \n",
    "                    callbacks=[tensorboard_callback, log],\n",
    "                    validation_split=0.1,\n",
    "                    validation_freq=50)"
   ]
  },
  {
   "cell_type": "code",
   "execution_count": 110,
   "metadata": {
    "execution": {
     "iopub.execute_input": "2020-08-04T13:52:05.888578Z",
     "iopub.status.busy": "2020-08-04T13:52:05.888300Z",
     "iopub.status.idle": "2020-08-04T13:52:05.931300Z",
     "shell.execute_reply": "2020-08-04T13:52:05.930556Z",
     "shell.execute_reply.started": "2020-08-04T13:52:05.888548Z"
    }
   },
   "outputs": [],
   "source": [
    "p_y = model_tfp.predict(val_in[0:3])"
   ]
  },
  {
   "cell_type": "code",
   "execution_count": 111,
   "metadata": {
    "execution": {
     "iopub.execute_input": "2020-08-04T13:52:08.639807Z",
     "iopub.status.busy": "2020-08-04T13:52:08.639540Z",
     "iopub.status.idle": "2020-08-04T13:52:08.645219Z",
     "shell.execute_reply": "2020-08-04T13:52:08.644372Z",
     "shell.execute_reply.started": "2020-08-04T13:52:08.639779Z"
    }
   },
   "outputs": [
    {
     "data": {
      "text/plain": [
       "array([[9.7302532e-01, 2.6940122e-02, 3.4577453e-05],\n",
       "       [5.6059127e-07, 4.8573419e-02, 9.5142603e-01],\n",
       "       [3.5287307e-03, 7.8340000e-01, 2.1307127e-01]], dtype=float32)"
      ]
     },
     "execution_count": 111,
     "metadata": {},
     "output_type": "execute_result"
    }
   ],
   "source": [
    "p_y"
   ]
  },
  {
   "cell_type": "code",
   "execution_count": 119,
   "metadata": {
    "execution": {
     "iopub.execute_input": "2020-08-04T13:53:17.923268Z",
     "iopub.status.busy": "2020-08-04T13:53:17.922985Z",
     "iopub.status.idle": "2020-08-04T13:53:17.960661Z",
     "shell.execute_reply": "2020-08-04T13:53:17.959916Z",
     "shell.execute_reply.started": "2020-08-04T13:53:17.923239Z"
    }
   },
   "outputs": [],
   "source": [
    "p_y = model_tfp.predict(val_in[0:3])"
   ]
  },
  {
   "cell_type": "code",
   "execution_count": 116,
   "metadata": {
    "execution": {
     "iopub.execute_input": "2020-08-04T13:52:50.704123Z",
     "iopub.status.busy": "2020-08-04T13:52:50.703844Z",
     "iopub.status.idle": "2020-08-04T13:52:50.709380Z",
     "shell.execute_reply": "2020-08-04T13:52:50.708623Z",
     "shell.execute_reply.started": "2020-08-04T13:52:50.704094Z"
    }
   },
   "outputs": [
    {
     "data": {
      "text/plain": [
       "array([[9.9263990e-01, 7.3517268e-03, 8.4542480e-06],\n",
       "       [4.3721265e-08, 1.9469375e-02, 9.8053062e-01],\n",
       "       [4.2997794e-03, 8.9077187e-01, 1.0492835e-01]], dtype=float32)"
      ]
     },
     "execution_count": 116,
     "metadata": {},
     "output_type": "execute_result"
    }
   ],
   "source": [
    "p_y"
   ]
  },
  {
   "cell_type": "code",
   "execution_count": 117,
   "metadata": {
    "execution": {
     "iopub.execute_input": "2020-08-04T13:52:53.185641Z",
     "iopub.status.busy": "2020-08-04T13:52:53.185381Z",
     "iopub.status.idle": "2020-08-04T13:52:53.192743Z",
     "shell.execute_reply": "2020-08-04T13:52:53.191879Z",
     "shell.execute_reply.started": "2020-08-04T13:52:53.185613Z"
    }
   },
   "outputs": [
    {
     "data": {
      "text/plain": [
       "<tf.Tensor: shape=(3,), dtype=float32, numpy=array([-0.5561423, -0.5639485, -0.6247838], dtype=float32)>"
      ]
     },
     "execution_count": 117,
     "metadata": {},
     "output_type": "execute_result"
    }
   ],
   "source": [
    "dist.Categorical(logits=p_y).log_prob(val_target[0:3])"
   ]
  },
  {
   "cell_type": "code",
   "execution_count": 120,
   "metadata": {
    "execution": {
     "iopub.execute_input": "2020-08-04T13:53:20.237364Z",
     "iopub.status.busy": "2020-08-04T13:53:20.237107Z",
     "iopub.status.idle": "2020-08-04T13:53:20.244415Z",
     "shell.execute_reply": "2020-08-04T13:53:20.243622Z",
     "shell.execute_reply.started": "2020-08-04T13:53:20.237337Z"
    }
   },
   "outputs": [
    {
     "data": {
      "text/plain": [
       "<tf.Tensor: shape=(3,), dtype=float32, numpy=array([-0.5624086 , -0.56205064, -0.73526317], dtype=float32)>"
      ]
     },
     "execution_count": 120,
     "metadata": {},
     "output_type": "execute_result"
    }
   ],
   "source": [
    "dist.Categorical(logits=p_y).log_prob(val_target[0:3])"
   ]
  },
  {
   "cell_type": "code",
   "execution_count": 127,
   "metadata": {
    "execution": {
     "iopub.execute_input": "2020-08-04T13:54:58.789561Z",
     "iopub.status.busy": "2020-08-04T13:54:58.789285Z",
     "iopub.status.idle": "2020-08-04T13:54:58.926644Z",
     "shell.execute_reply": "2020-08-04T13:54:58.925859Z",
     "shell.execute_reply.started": "2020-08-04T13:54:58.789532Z"
    }
   },
   "outputs": [],
   "source": [
    "s = np.array([dist.Categorical(logits=p_y).sample().numpy() for i in range(100)])"
   ]
  },
  {
   "cell_type": "code",
   "execution_count": 122,
   "metadata": {
    "execution": {
     "iopub.execute_input": "2020-08-04T13:53:55.280231Z",
     "iopub.status.busy": "2020-08-04T13:53:55.279915Z",
     "iopub.status.idle": "2020-08-04T13:53:55.658958Z",
     "shell.execute_reply": "2020-08-04T13:53:55.658089Z",
     "shell.execute_reply.started": "2020-08-04T13:53:55.280199Z"
    }
   },
   "outputs": [
    {
     "data": {
      "text/plain": [
       "(array([26., 45., 29.]),\n",
       " array([0, 1, 2, 3]),\n",
       " <BarContainer object of 3 artists>)"
      ]
     },
     "execution_count": 122,
     "metadata": {},
     "output_type": "execute_result"
    },
    {
     "data": {
      "image/png": "[encoded data removed]",
      "text/plain": [
       "<Figure size 432x288 with 3 Axes>"
      ]
     },
     "metadata": {
      "needs_background": "light"
     },
     "output_type": "display_data"
    }
   ],
   "source": [
    "ax1 = plt.subplot(1,3,1)\n",
    "ax1.hist(s[:,1].reshape(-1,1),bins=[0,1,2,3],density=False, hatch=\"/\", color='r', edgecolor='black')\n",
    "ax = plt.subplot(1,3,2, sharey=ax1)\n",
    "ax.hist(s[:,0].reshape(-1,1),bins=[0,1,2,3],density=False, color='g', edgecolor='black')\n",
    "ax = plt.subplot(1,3,3,sharey=ax1)\n",
    "ax.hist(s[:,2].reshape(-1,1),bins=[0,1,2,3],density=False, hatch=\".\", edgecolor='black')"
   ]
  }
 ],
 "metadata": {
  "kernelspec": {
   "display_name": "Python 3",
   "language": "python",
   "name": "python3"
  },
  "language_info": {
   "codemirror_mode": {
    "name": "ipython",
    "version": 3
   },
   "file_extension": ".py",
   "mimetype": "text/x-python",
   "name": "python",
   "nbconvert_exporter": "python",
   "pygments_lexer": "ipython3",
   "version": "3.6.9"
  },
  "toc-autonumbering": true
 },
 "nbformat": 4,
 "nbformat_minor": 4
}
